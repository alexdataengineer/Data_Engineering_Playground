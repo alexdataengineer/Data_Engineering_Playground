{
 "cells": [
  {
   "cell_type": "code",
   "execution_count": 0,
   "metadata": {
    "application/vnd.databricks.v1+cell": {
     "cellMetadata": {
      "byteLimit": 2048000,
      "rowLimit": 10000
     },
     "inputWidgets": {},
     "nuid": "795dc6e2-d6a0-40f0-9635-35c468060644",
     "showTitle": false,
     "tableResultSettingsMap": {},
     "title": ""
    }
   },
   "outputs": [],
   "source": [
    "from pyspark.sql import SparkSession\n",
    "from pyspark.sql import Row\n",
    "import requests\n",
    "import json\n",
    "import time"
   ]
  },
  {
   "cell_type": "code",
   "execution_count": 0,
   "metadata": {
    "application/vnd.databricks.v1+cell": {
     "cellMetadata": {
      "byteLimit": 2048000,
      "rowLimit": 10000
     },
     "inputWidgets": {},
     "nuid": "5aab1076-fd5f-4191-9fa4-5eee8eda4f30",
     "showTitle": false,
     "tableResultSettingsMap": {},
     "title": ""
    }
   },
   "outputs": [],
   "source": [
    "spark = SparkSession.builder.appName(\"API_Bank_Data\").getOrCreate()\n",
    "\n",
    "API_KEY = \"FkA7wMzG06boNdftBzLfcWo76Y50sdxH\"\n",
    "\n",
    "per_page = 50\n",
    "page = 1  \n",
    "max_pages = 5  \n",
    "country_codes = [\"AD\", \"DE\", \"FR\", \"IT\"]  \n",
    "banks_list = []  \n"
   ]
  },
  {
   "cell_type": "code",
   "execution_count": 0,
   "metadata": {
    "application/vnd.databricks.v1+cell": {
     "cellMetadata": {
      "byteLimit": 2048000,
      "rowLimit": 10000
     },
     "inputWidgets": {},
     "nuid": "ca8abda4-0377-46f0-9d3e-10a0522a9722",
     "showTitle": false,
     "tableResultSettingsMap": {},
     "title": ""
    }
   },
   "outputs": [
    {
     "name": "stdout",
     "output_type": "stream",
     "text": [
      " Página 1 carregada com sucesso para AD!\n",
      " Nenhum dado retornado na página 2 para AD. Encerrando busca.\n",
      " Página 1 carregada com sucesso para DE!\n",
      " Página 2 carregada com sucesso para DE!\n",
      " Página 3 carregada com sucesso para DE!\n",
      " Página 4 carregada com sucesso para DE!\n",
      " Página 5 carregada com sucesso para DE!\n",
      " Página 1 carregada com sucesso para FR!\n",
      " Página 2 carregada com sucesso para FR!\n",
      " Página 3 carregada com sucesso para FR!\n",
      " Página 4 carregada com sucesso para FR!\n",
      " Página 5 carregada com sucesso para FR!\n",
      " Página 1 carregada com sucesso para IT!\n",
      " Página 2 carregada com sucesso para IT!\n",
      " Página 3 carregada com sucesso para IT!\n",
      " Página 4 carregada com sucesso para IT!\n",
      " Página 5 carregada com sucesso para IT!\n",
      "+-------+------------+----------------------------------------------------------------------------+-----------------------------------------------------------------------------------+------------------+--------+-----------+------------------------+---------+--------------+--------+\n",
      "|country|country_code|bank_name                                                                   |branch                                                                             |city              |zip_code|swift_code |iban                    |bank_code|account_number|checksum|\n",
      "+-------+------------+----------------------------------------------------------------------------+-----------------------------------------------------------------------------------+------------------+--------+-----------+------------------------+---------+--------------+--------+\n",
      "|Andorra|AD          |ANDORRA BANC AGRICOL REIG S.A.                                              |ANDORRA BANC AGRICOL REIG S.A., LES ESCALDES                                       |LES ESCALDES      |        |BACAADAD   |AD1200012030200359100100|0001     |200359100100  |12      |\n",
      "|Andorra|AD          |ANDORRA GESTIO AGRICOL REIG SAU                                             |ANDORRA GESTIO AGRICOL REIG SAU, ESCALDES-ENGORDANY                                |ESCALDES-ENGORDANY|        |AAMAADAD   |AD1200012030200359100100|0001     |200359100100  |12      |\n",
      "|Andorra|AD          |BANC SABADELL D'ANDORRA S.A.                                                |BANC SABADELL D'ANDORRA S.A., ANDORRA LA VELLA                                     |ANDORRA LA VELLA  |        |BSANADAD   |AD1200012030200359100100|0001     |200359100100  |12      |\n",
      "|Andorra|AD          |BANCA PRIVADA D'ANDORRA S.A.                                                |BANCA PRIVADA D'ANDORRA S.A., LES ESCALDES                                         |LES ESCALDES      |        |CASBADAD   |AD1200012030200359100100|0001     |200359100100  |12      |\n",
      "|Andorra|AD          |CREDIT ANDORRA,S.A.                                                         |CREDIT ANDORRA,S.A., ANDORRA LA VELLA                                              |ANDORRA LA VELLA  |        |CRDAADAD   |AD1200012030200359100100|0001     |200359100100  |12      |\n",
      "|Andorra|AD          |MORA BANC GRUP SA                                                           |MORA BANC GRUP SA, ANDORRA LA VELLA                                                |ANDORRA LA VELLA  |        |BINAADAD   |AD1200012030200359100100|0001     |200359100100  |12      |\n",
      "|Andorra|AD          |MORA BANC SAU                                                               |MORA BANC SAU, LES ESCALDES                                                        |LES ESCALDES      |        |BINAADB1   |AD1200012030200359100100|0001     |200359100100  |12      |\n",
      "|Andorra|AD          |RESULT INTERNACIONAL SA                                                     |RESULT INTERNACIONAL SA, ANDORRA LA VELLA                                          |ANDORRA LA VELLA  |        |RINSADA1   |AD1200012030200359100100|0001     |200359100100  |12      |\n",
      "|Andorra|AD          |VALL BANC                                                                   |VALL BANC, ESCALDES-ENGORDANY                                                      |ESCALDES-ENGORDANY|        |VALBADAD   |AD1200012030200359100100|0001     |200359100100  |12      |\n",
      "|Germany|DE          |360 TREASURY SYSTEMS AG                                                     |360 TREASURY SYSTEMS AG, FRANKFURT AM MAIN                                         |FRANKFURT AM MAIN |        |TRSYDEFF   |DE89370400440532013000  |37040044 |0532013000    |89      |\n",
      "|Germany|DE          |886 AG                                                                      |886 AG, BAD VILBEL                                                                 |BAD VILBEL        |        |AGGBDE51   |DE89370400440532013000  |37040044 |0532013000    |89      |\n",
      "|Germany|DE          |AACHENER BANK EG                                                            |AACHENER BANK EG, AACHEN                                                           |AACHEN            |52001   |GENODED1AAC|DE89370400440532013000  |37040044 |0532013000    |89      |\n",
      "|Germany|DE          |AACHENER BANK EG                                                            |AACHENER BANK EG, ALSDORF                                                          |ALSDORF           |        |GENODED1AAY|DE89370400440532013000  |37040044 |0532013000    |89      |\n",
      "|Germany|DE          |AACHENER BAUSPARKASSE AKTIENGESELLSCHAFT                                    |AACHENER BAUSPARKASSE AKTIENGESELLSCHAFT, AACHEN                                   |AACHEN            |        |AABSDE31   |DE89370400440532013000  |37040044 |0532013000    |89      |\n",
      "|Germany|DE          |'AACHENER' GRUNDVERMOEGEN-KAPITALANLAGEGESELLSCHAFT MIT BESCHRANKTER HAFTUNG|'AACHENER' GRUNDVERMOEGEN-KAPITALANLAGEGESELLSCHAFT MIT BESCHRANKTER HAFTUNG, KOELN|KOELN             |        |AACHDE31   |DE89370400440532013000  |37040044 |0532013000    |89      |\n",
      "|Germany|DE          |AAREAL BANK AG                                                              |AAREAL BANK AG, BERLIN                                                             |BERLIN            |10666   |AARBDE5W100|DE89370400440532013000  |37040044 |0532013000    |89      |\n",
      "|Germany|DE          |AAREAL BANK AG                                                              |AAREAL BANK AG, ESSEN                                                              |ESSEN             |45009   |AARBDE5W360|DE89370400440532013000  |37040044 |0532013000    |89      |\n",
      "|Germany|DE          |AAREAL BANK AG                                                              |AAREAL BANK AG, FRANKFURT AM MAIN                                                  |FRANKFURT AM MAIN |60284   |AARBDE5W500|DE89370400440532013000  |37040044 |0532013000    |89      |\n",
      "|Germany|DE          |AAREAL BANK AG                                                              |AAREAL BANK AG, HAMBURG                                                            |HAMBURG           |20009   |AARBDE5W200|DE89370400440532013000  |37040044 |0532013000    |89      |\n",
      "|Germany|DE          |AAREAL BANK AG                                                              |AAREAL BANK AG, HANNOVER                                                           |HANNOVER          |30014   |AARBDE5W250|DE89370400440532013000  |37040044 |0532013000    |89      |\n",
      "+-------+------------+----------------------------------------------------------------------------+-----------------------------------------------------------------------------------+------------------+--------+-----------+------------------------+---------+--------------+--------+\n",
      "only showing top 20 rows\n",
      "\n",
      " Dados salvos com particionamento por country_code!\n"
     ]
    }
   ],
   "source": [
    "for country_code in country_codes:\n",
    "    page = 1  \n",
    "    while page <= max_pages:\n",
    "        url = f\"https://api.apilayer.com/bank_data/all?country={country_code}&per_page={per_page}&page={page}\"\n",
    "        headers = {\"apikey\": API_KEY}\n",
    "        \n",
    "        response = requests.get(url, headers=headers)\n",
    "\n",
    "        if response.status_code == 200:\n",
    "            data = response.json()\n",
    "            bank_data = data.get(\"data\", [])\n",
    "\n",
    "            if not bank_data:\n",
    "                print(f\" Nenhum dado retornado na página {page} para {country_code}. Encerrando busca.\")\n",
    "                break\n",
    "\n",
    "            for bank in bank_data:\n",
    "                banks_list.append(Row(\n",
    "                    country=bank[\"swift_data\"].get(\"country\"),\n",
    "                    country_code=bank[\"swift_data\"].get(\"country_code\"),\n",
    "                    bank_name=bank[\"swift_data\"].get(\"name\"),\n",
    "                    branch=bank[\"swift_data\"].get(\"branch\"),\n",
    "                    city=bank[\"swift_data\"].get(\"city\"),\n",
    "                    zip_code=bank[\"swift_data\"].get(\"zip\"),\n",
    "                    swift_code=bank[\"swift_data\"].get(\"swift\"),\n",
    "                    iban=bank[\"iban_data\"].get(\"iban\"),\n",
    "                    bank_code=bank[\"iban_data\"].get(\"bank_code\"),\n",
    "                    account_number=bank[\"iban_data\"].get(\"account_number\"),\n",
    "                    checksum=bank[\"iban_data\"].get(\"checksum\")\n",
    "                ))\n",
    "\n",
    "            print(f\" Página {page} carregada com sucesso para {country_code}!\")\n",
    "            page += 1\n",
    "            time.sleep(1)  \n",
    "\n",
    "        elif response.status_code == 404:\n",
    "            print(f\" Erro 404: Endpoint não encontrado. Verifique a URL.\")\n",
    "            break\n",
    "        elif response.status_code == 429:\n",
    "            print(\" Taxa limite excedida. Aguardando para continuar...\")\n",
    "            time.sleep(60)\n",
    "        else:\n",
    "            print(f\" Erro na API: {response.status_code}, {response.text}\")\n",
    "            break\n",
    "\n",
    "if banks_list:\n",
    "    df_spark = spark.createDataFrame(banks_list)\n",
    "\n",
    "    df_spark.show(truncate=False)\n",
    "\n",
    "    df_spark.write.mode(\"overwrite\").partitionBy(\"country_code\").parquet(\"/mnt/datalake/bank_data_partitioned\")\n",
    "\n",
    "    print(\" Dados salvos com particionamento por country_code!\")\n",
    "else:\n",
    "    print(\" Nenhum dado coletado. Nenhum DataFrame criado.\")\n"
   ]
  }
 ],
 "metadata": {
  "application/vnd.databricks.v1+notebook": {
   "computePreferences": null,
   "dashboards": [],
   "environmentMetadata": {
    "base_environment": "",
    "client": "1"
   },
   "language": "python",
   "notebookMetadata": {
    "pythonIndentUnit": 4
   },
   "notebookName": "PartitionedBankDataPipeline",
   "widgets": {}
  },
  "language_info": {
   "name": "python"
  }
 },
 "nbformat": 4,
 "nbformat_minor": 0
}
