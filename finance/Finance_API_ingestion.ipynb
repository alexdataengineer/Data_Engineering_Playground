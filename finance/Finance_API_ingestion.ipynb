{
 "cells": [
  {
   "cell_type": "code",
   "execution_count": null,
   "metadata": {},
   "outputs": [
    {
     "name": "stdout",
     "output_type": "stream",
     "text": [
      "Baixando dados para AAPL...\n",
      "Tabela stock_data verificada/criada com sucesso.\n",
      "Dados do ativo AAPL inseridos com sucesso no SQL Server!\n",
      "Ingestão finalizada com sucesso! 🚀\n"
     ]
    }
   ],
   "source": [
    "import time\n",
    "import pyodbc\n",
    "import pandas as pd\n",
    "from alpha_vantage.timeseries import TimeSeries\n",
    "\n",
    "api_key = \"S2RDNJMGA6ZXKSXP\"\n",
    "symbol = \"AAPL\"  \n",
    "interval = \"1min\"  \n",
    "output_size = \"full\"  \n",
    "\n",
    "server = \"ALEXSANDER\"\n",
    "database = \"master\"\n",
    "table_name = \"stock_data\"\n",
    "\n",
    "conn = pyodbc.connect(\n",
    "    f\"DRIVER={{SQL Server}};SERVER={server};DATABASE={database};Trusted_Connection=yes;\"\n",
    ")\n",
    "cursor = conn.cursor()\n",
    "\n",
    "print(f\"Baixando dados para {symbol}...\")\n",
    "\n",
    "ts = TimeSeries(key=api_key, output_format=\"pandas\")\n",
    "data, meta_data = ts.get_intraday(symbol=symbol, interval=interval, outputsize=output_size)\n",
    "\n",
    "data.columns = [\"Open\", \"High\", \"Low\", \"Close\", \"Volume\"]\n",
    "\n",
    "data.reset_index(inplace=True)\n",
    "data.rename(columns={\"date\": \"Date\"}, inplace=True)\n",
    "\n",
    "data[\"Date\"] = pd.to_datetime(data[\"Date\"])\n",
    "\n",
    "cursor.execute(f\"\"\"\n",
    "    IF NOT EXISTS (SELECT * FROM INFORMATION_SCHEMA.TABLES WHERE TABLE_NAME = '{table_name}')\n",
    "    BEGIN\n",
    "        CREATE TABLE {table_name} (\n",
    "            id INT IDENTITY(1,1) PRIMARY KEY,\n",
    "            Date DATETIME,\n",
    "            [Open] FLOAT,\n",
    "            High FLOAT,\n",
    "            Low FLOAT,\n",
    "            [Close] FLOAT,\n",
    "            Volume BIGINT\n",
    "        )\n",
    "    END\n",
    "\"\"\")\n",
    "conn.commit()\n",
    "print(f\"Tabela {table_name} verificada/criada com sucesso.\")\n",
    "\n",
    "for _, row in data.iterrows():\n",
    "    cursor.execute(f\"\"\"\n",
    "        INSERT INTO {table_name} (Date, [Open], High, Low, [Close], Volume)\n",
    "        VALUES (?, ?, ?, ?, ?, ?)\n",
    "    \"\"\", row[\"Date\"], row[\"Open\"], row[\"High\"], row[\"Low\"], row[\"Close\"], row[\"Volume\"])\n",
    "\n",
    "conn.commit()\n",
    "print(f\"Dados do ativo {symbol} inseridos com sucesso no SQL Server!\")\n",
    "\n",
    "cursor.close()\n",
    "conn.close()\n",
    "print(\"Ingestão finalizada com sucesso! 🚀\")\n"
   ]
  }
 ],
 "metadata": {
  "kernelspec": {
   "display_name": "Python 3",
   "language": "python",
   "name": "python3"
  },
  "language_info": {
   "codemirror_mode": {
    "name": "ipython",
    "version": 3
   },
   "file_extension": ".py",
   "mimetype": "text/x-python",
   "name": "python",
   "nbconvert_exporter": "python",
   "pygments_lexer": "ipython3",
   "version": "3.12.9"
  }
 },
 "nbformat": 4,
 "nbformat_minor": 2
}
