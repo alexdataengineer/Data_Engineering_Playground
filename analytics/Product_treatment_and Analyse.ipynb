{
 "cells": [
  {
   "cell_type": "code",
   "execution_count": 0,
   "metadata": {
    "application/vnd.databricks.v1+cell": {
     "cellMetadata": {
      "byteLimit": 2048000,
      "rowLimit": 10000
     },
     "inputWidgets": {},
     "nuid": "c4e27402-dbf9-48c4-a7c8-011cdd069eea",
     "showTitle": false,
     "tableResultSettingsMap": {},
     "title": ""
    }
   },
   "outputs": [],
   "source": [
    "from pyspark.sql import SparkSession\n",
    "from pyspark.sql import functions as f\n",
    "from pyspark.sql.functions import desc\n",
    "from pyspark.sql.types import IntegerType\n",
    "from pyspark.sql.functions import round\n",
    "\n"
   ]
  },
  {
   "cell_type": "code",
   "execution_count": 0,
   "metadata": {
    "application/vnd.databricks.v1+cell": {
     "cellMetadata": {
      "byteLimit": 2048000,
      "rowLimit": 10000
     },
     "inputWidgets": {},
     "nuid": "bf4ebb1b-fa60-45d1-af4c-2a78c98e9b47",
     "showTitle": false,
     "tableResultSettingsMap": {},
     "title": ""
    }
   },
   "outputs": [],
   "source": [
    "spark = SparkSession.builder.appName('get it').getOrCreate()"
   ]
  },
  {
   "cell_type": "code",
   "execution_count": 0,
   "metadata": {
    "application/vnd.databricks.v1+cell": {
     "cellMetadata": {
      "byteLimit": 2048000,
      "rowLimit": 10000
     },
     "inputWidgets": {},
     "nuid": "5a5105f2-72ac-4eb9-8859-8caea3fa6cb9",
     "showTitle": false,
     "tableResultSettingsMap": {},
     "title": ""
    }
   },
   "outputs": [],
   "source": [
    "df_product = spark.table('default.dim_products_7_csv')\n",
    "df_orders = spark.table('default.fact_orders_6_csv')"
   ]
  },
  {
   "cell_type": "code",
   "execution_count": 0,
   "metadata": {
    "application/vnd.databricks.v1+cell": {
     "cellMetadata": {
      "byteLimit": 2048000,
      "rowLimit": 10000
     },
     "inputWidgets": {},
     "nuid": "675579c1-1526-4c0d-86a9-d1b6246fa101",
     "showTitle": false,
     "tableResultSettingsMap": {},
     "title": ""
    }
   },
   "outputs": [
    {
     "output_type": "display_data",
     "data": {
      "text/html": [
       "<style scoped>\n",
       "  .table-result-container {\n",
       "    max-height: 300px;\n",
       "    overflow: auto;\n",
       "  }\n",
       "  table, th, td {\n",
       "    border: 1px solid black;\n",
       "    border-collapse: collapse;\n",
       "  }\n",
       "  th, td {\n",
       "    padding: 5px;\n",
       "  }\n",
       "  th {\n",
       "    text-align: left;\n",
       "  }\n",
       "</style><div class='table-result-container'><table class='table-result'><thead style='background-color: white'><tr><th>customer_id</th><th>order_id</th><th>order_item_id</th><th>seller_id</th><th>product_id</th><th>order_purchase_date</th><th>order_approved_date</th><th>order_delivered_carrier_date</th><th>order_delivered_customer_date</th><th>order_status</th><th>price_in_cad</th><th>freight_value_in_cad</th><th>payment_type</th><th>payment_sequential</th><th>payment_installments</th></tr></thead><tbody><tr><td>CUST-100-104-bhf\"</td><td>ORD-301-204-hay#</td><td>1</td><td>SELL-418-949-jbn$</td><td>PROD-351-803-btb.</td><td>2019-01-10</td><td>2019-01-10</td><td>2019-01-18</td><td>2019-01-24</td><td>delivered</td><td>1.42</td><td>0.1</td><td>credit_card</td><td>1.0</td><td>8.0</td></tr><tr><td>CUST-100-104-bhf\"</td><td>ORD-301-204-hay#</td><td>2</td><td>SELL-418-949-jbn$</td><td>PROD-592-252-fgo*</td><td>2019-06-10</td><td>2019-06-10</td><td>2019-06-18</td><td>2019-06-24</td><td>delivered</td><td>12.01</td><td>0.84</td><td>credit_card</td><td>1.0</td><td>8.0</td></tr><tr><td>CUST-100-123-fcl)</td><td>ORD-286-990-fbe!</td><td>1</td><td>SELL-659-656-lqi\"</td><td>PROD-981-360-tsx.</td><td>2018-05-14</td><td>2018-05-15</td><td>2018-05-16</td><td>2018-06-03</td><td>delivered</td><td>17.28</td><td>1.21</td><td>credit_card</td><td>1.0</td><td>3.0</td></tr><tr><td>CUST-100-126-tie#</td><td>ORD-986-108-ixj\"</td><td>1</td><td>SELL-919-776-rtr!</td><td>PROD-466-709-ruw*</td><td>2018-12-15</td><td>2018-12-15</td><td>2018-12-16</td><td>2018-12-19</td><td>delivered</td><td>30.69</td><td>2.15</td><td>credit_card</td><td>1.0</td><td>1.0</td></tr><tr><td>CUST-100-146-hpj%</td><td>ORD-933-585-zin\"</td><td>1</td><td>SELL-408-580-yfc$</td><td>PROD-540-989-oyk-</td><td>2018-09-22</td><td>2018-09-22</td><td>2018-09-22</td><td>2018-09-24</td><td>delivered</td><td>40.15</td><td>2.81</td><td>credit_card</td><td>1.0</td><td>1.0</td></tr><tr><td>CUST-100-146-hpj%</td><td>ORD-933-585-zin\"</td><td>2</td><td>SELL-408-580-yfc$</td><td>PROD-540-989-oyk-</td><td>2019-08-22</td><td>2019-08-22</td><td>2019-08-22</td><td>2019-08-24</td><td>delivered</td><td>12.1</td><td>0.85</td><td>credit_card</td><td>1.0</td><td>1.0</td></tr><tr><td>CUST-100-168-kch*</td><td>ORD-220-120-epg!</td><td>1</td><td>SELL-910-309-nvm'</td><td>PROD-459-947-tqu%</td><td>2018-08-11</td><td>2018-08-12</td><td>2018-08-12</td><td>2262-08-11</td><td>shipped</td><td>18.53</td><td>1.3</td><td>credit_card</td><td>1.0</td><td>4.0</td></tr><tr><td>CUST-100-172-blo)</td><td>ORD-850-867-nse,</td><td>1</td><td>SELL-362-916-bpg,</td><td>PROD-264-409-eez*</td><td>2017-07-01</td><td>2017-07-01</td><td>2017-07-02</td><td>2017-07-12</td><td>delivered</td><td>20.83</td><td>1.46</td><td>credit_card</td><td>1.0</td><td>1.0</td></tr><tr><td>CUST-100-217-mjd$</td><td>ORD-796-367-ubx$</td><td>1</td><td>SELL-203-875-fjq)</td><td>PROD-751-767-isp'</td><td>2018-10-02</td><td>2018-10-02</td><td>2018-10-05</td><td>2018-10-18</td><td>delivered</td><td>21.17</td><td>1.48</td><td>credit_card</td><td>1.0</td><td>8.0</td></tr><tr><td>CUST-100-226-gcx+</td><td>ORD-598-520-mwf(</td><td>1</td><td>SELL-587-959-rnq&</td><td>PROD-775-222-mcv.</td><td>2018-12-28</td><td>2018-12-28</td><td>2018-12-29</td><td>2018-12-30</td><td>delivered</td><td>39.83</td><td>2.79</td><td>credit_card</td><td>1.0</td><td>2.0</td></tr></tbody></table></div>"
      ]
     },
     "metadata": {
      "application/vnd.databricks.v1+output": {
       "addedWidgets": {},
       "aggData": [],
       "aggError": "",
       "aggOverflow": false,
       "aggSchema": [],
       "aggSeriesLimitReached": false,
       "aggType": "",
       "arguments": {},
       "columnCustomDisplayInfos": {},
       "data": [
        [
         "CUST-100-104-bhf\"",
         "ORD-301-204-hay#",
         "1",
         "SELL-418-949-jbn$",
         "PROD-351-803-btb.",
         "2019-01-10",
         "2019-01-10",
         "2019-01-18",
         "2019-01-24",
         "delivered",
         "1.42",
         "0.1",
         "credit_card",
         "1.0",
         "8.0"
        ],
        [
         "CUST-100-104-bhf\"",
         "ORD-301-204-hay#",
         "2",
         "SELL-418-949-jbn$",
         "PROD-592-252-fgo*",
         "2019-06-10",
         "2019-06-10",
         "2019-06-18",
         "2019-06-24",
         "delivered",
         "12.01",
         "0.84",
         "credit_card",
         "1.0",
         "8.0"
        ],
        [
         "CUST-100-123-fcl)",
         "ORD-286-990-fbe!",
         "1",
         "SELL-659-656-lqi\"",
         "PROD-981-360-tsx.",
         "2018-05-14",
         "2018-05-15",
         "2018-05-16",
         "2018-06-03",
         "delivered",
         "17.28",
         "1.21",
         "credit_card",
         "1.0",
         "3.0"
        ],
        [
         "CUST-100-126-tie#",
         "ORD-986-108-ixj\"",
         "1",
         "SELL-919-776-rtr!",
         "PROD-466-709-ruw*",
         "2018-12-15",
         "2018-12-15",
         "2018-12-16",
         "2018-12-19",
         "delivered",
         "30.69",
         "2.15",
         "credit_card",
         "1.0",
         "1.0"
        ],
        [
         "CUST-100-146-hpj%",
         "ORD-933-585-zin\"",
         "1",
         "SELL-408-580-yfc$",
         "PROD-540-989-oyk-",
         "2018-09-22",
         "2018-09-22",
         "2018-09-22",
         "2018-09-24",
         "delivered",
         "40.15",
         "2.81",
         "credit_card",
         "1.0",
         "1.0"
        ],
        [
         "CUST-100-146-hpj%",
         "ORD-933-585-zin\"",
         "2",
         "SELL-408-580-yfc$",
         "PROD-540-989-oyk-",
         "2019-08-22",
         "2019-08-22",
         "2019-08-22",
         "2019-08-24",
         "delivered",
         "12.1",
         "0.85",
         "credit_card",
         "1.0",
         "1.0"
        ],
        [
         "CUST-100-168-kch*",
         "ORD-220-120-epg!",
         "1",
         "SELL-910-309-nvm'",
         "PROD-459-947-tqu%",
         "2018-08-11",
         "2018-08-12",
         "2018-08-12",
         "2262-08-11",
         "shipped",
         "18.53",
         "1.3",
         "credit_card",
         "1.0",
         "4.0"
        ],
        [
         "CUST-100-172-blo)",
         "ORD-850-867-nse,",
         "1",
         "SELL-362-916-bpg,",
         "PROD-264-409-eez*",
         "2017-07-01",
         "2017-07-01",
         "2017-07-02",
         "2017-07-12",
         "delivered",
         "20.83",
         "1.46",
         "credit_card",
         "1.0",
         "1.0"
        ],
        [
         "CUST-100-217-mjd$",
         "ORD-796-367-ubx$",
         "1",
         "SELL-203-875-fjq)",
         "PROD-751-767-isp'",
         "2018-10-02",
         "2018-10-02",
         "2018-10-05",
         "2018-10-18",
         "delivered",
         "21.17",
         "1.48",
         "credit_card",
         "1.0",
         "8.0"
        ],
        [
         "CUST-100-226-gcx+",
         "ORD-598-520-mwf(",
         "1",
         "SELL-587-959-rnq&",
         "PROD-775-222-mcv.",
         "2018-12-28",
         "2018-12-28",
         "2018-12-29",
         "2018-12-30",
         "delivered",
         "39.83",
         "2.79",
         "credit_card",
         "1.0",
         "2.0"
        ]
       ],
       "datasetInfos": [],
       "dbfsResultPath": null,
       "isJsonSchema": true,
       "metadata": {},
       "overflow": false,
       "plotOptions": {
        "customPlotOptions": {},
        "displayType": "table",
        "pivotAggregation": null,
        "pivotColumns": null,
        "xColumns": null,
        "yColumns": null
       },
       "removedWidgets": [],
       "schema": [
        {
         "metadata": "{}",
         "name": "customer_id",
         "type": "\"string\""
        },
        {
         "metadata": "{}",
         "name": "order_id",
         "type": "\"string\""
        },
        {
         "metadata": "{}",
         "name": "order_item_id",
         "type": "\"string\""
        },
        {
         "metadata": "{}",
         "name": "seller_id",
         "type": "\"string\""
        },
        {
         "metadata": "{}",
         "name": "product_id",
         "type": "\"string\""
        },
        {
         "metadata": "{}",
         "name": "order_purchase_date",
         "type": "\"string\""
        },
        {
         "metadata": "{}",
         "name": "order_approved_date",
         "type": "\"string\""
        },
        {
         "metadata": "{}",
         "name": "order_delivered_carrier_date",
         "type": "\"string\""
        },
        {
         "metadata": "{}",
         "name": "order_delivered_customer_date",
         "type": "\"string\""
        },
        {
         "metadata": "{}",
         "name": "order_status",
         "type": "\"string\""
        },
        {
         "metadata": "{}",
         "name": "price_in_cad",
         "type": "\"string\""
        },
        {
         "metadata": "{}",
         "name": "freight_value_in_cad",
         "type": "\"string\""
        },
        {
         "metadata": "{}",
         "name": "payment_type",
         "type": "\"string\""
        },
        {
         "metadata": "{}",
         "name": "payment_sequential",
         "type": "\"string\""
        },
        {
         "metadata": "{}",
         "name": "payment_installments",
         "type": "\"string\""
        }
       ],
       "type": "table"
      }
     },
     "output_type": "display_data"
    }
   ],
   "source": [
    "display(df_orders.limit(10))"
   ]
  },
  {
   "cell_type": "code",
   "execution_count": 0,
   "metadata": {
    "application/vnd.databricks.v1+cell": {
     "cellMetadata": {
      "byteLimit": 2048000,
      "rowLimit": 10000
     },
     "inputWidgets": {},
     "nuid": "8b0e1b18-d7b5-473c-b986-aa5574e23371",
     "showTitle": false,
     "tableResultSettingsMap": {},
     "title": ""
    }
   },
   "outputs": [],
   "source": [
    "df_orders = (\n",
    "    df_orders.withColumn('order_item_id', df_orders['order_item_id'].cast(IntegerType()))\n",
    "    .withColumn('order_purchase_date', f.col('order_purchase_date').cast('date'))\n",
    "    .withColumn('order_approved_date', f.col('order_approved_date').cast('date'))\n",
    "    .withColumn('order_delivered_carrier_date', f.col('order_delivered_carrier_date').cast('date'))\n",
    "    .withColumn('order_delivered_customer_date', f.col('order_delivered_customer_date').cast('date'))\n",
    "    .withColumn('price_in_cad', df_orders['price_in_cad'].cast(IntegerType()))\n",
    "    .withColumn('freight_value_in_cad', df_orders['freight_value_in_cad'].cast(IntegerType()))\n",
    "    .withColumn('payment_sequential', f.col('payment_sequential').cast('float'))\n",
    "    )\n",
    "    \n"
   ]
  },
  {
   "cell_type": "code",
   "execution_count": 0,
   "metadata": {
    "application/vnd.databricks.v1+cell": {
     "cellMetadata": {
      "byteLimit": 2048000,
      "rowLimit": 10000
     },
     "inputWidgets": {},
     "nuid": "f983202d-6b88-4a56-a8d4-93f1242ba718",
     "showTitle": false,
     "tableResultSettingsMap": {},
     "title": ""
    }
   },
   "outputs": [
    {
     "output_type": "display_data",
     "data": {
      "text/html": [
       "<style scoped>\n",
       "  .table-result-container {\n",
       "    max-height: 300px;\n",
       "    overflow: auto;\n",
       "  }\n",
       "  table, th, td {\n",
       "    border: 1px solid black;\n",
       "    border-collapse: collapse;\n",
       "  }\n",
       "  th, td {\n",
       "    padding: 5px;\n",
       "  }\n",
       "  th {\n",
       "    text-align: left;\n",
       "  }\n",
       "</style><div class='table-result-container'><table class='table-result'><thead style='background-color: white'><tr><th>payment_type</th><th>total_price_in_cad</th></tr></thead><tbody><tr><td>credit_card</td><td>1435682</td></tr><tr><td>bank draft</td><td>375043</td></tr><tr><td>voucher</td><td>48893</td></tr><tr><td>debit_card</td><td>27322</td></tr></tbody></table></div>"
      ]
     },
     "metadata": {
      "application/vnd.databricks.v1+output": {
       "addedWidgets": {},
       "aggData": [],
       "aggError": "",
       "aggOverflow": false,
       "aggSchema": [],
       "aggSeriesLimitReached": false,
       "aggType": "",
       "arguments": {},
       "columnCustomDisplayInfos": {},
       "data": [
        [
         "credit_card",
         1435682
        ],
        [
         "bank draft",
         375043
        ],
        [
         "voucher",
         48893
        ],
        [
         "debit_card",
         27322
        ]
       ],
       "datasetInfos": [],
       "dbfsResultPath": null,
       "isJsonSchema": true,
       "metadata": {},
       "overflow": false,
       "plotOptions": {
        "customPlotOptions": {},
        "displayType": "table",
        "pivotAggregation": null,
        "pivotColumns": null,
        "xColumns": null,
        "yColumns": null
       },
       "removedWidgets": [],
       "schema": [
        {
         "metadata": "{}",
         "name": "payment_type",
         "type": "\"string\""
        },
        {
         "metadata": "{}",
         "name": "total_price_in_cad",
         "type": "\"long\""
        }
       ],
       "type": "table"
      }
     },
     "output_type": "display_data"
    },
    {
     "output_type": "display_data",
     "data": {
      "text/plain": [
       "Databricks visualization. Run in Databricks to view."
      ]
     },
     "metadata": {
      "application/vnd.databricks.v1.subcommand+json": {
       "baseErrorDetails": null,
       "bindings": {},
       "collapsed": false,
       "command": "%python\n__backend_agg_display_orig = display\n__backend_agg_dfs = []\ndef __backend_agg_display_new(df):\n    __backend_agg_df_modules = [\"pandas.core.frame\", \"databricks.koalas.frame\", \"pyspark.sql.dataframe\", \"pyspark.pandas.frame\", \"pyspark.sql.connect.dataframe\"]\n    if (type(df).__module__ in __backend_agg_df_modules and type(df).__name__ == 'DataFrame') or isinstance(df, list):\n        __backend_agg_dfs.append(df)\n\ndisplay = __backend_agg_display_new\n\ndef __backend_agg_user_code_fn():\n    import base64\n    exec(base64.standard_b64decode(\"ZGZfb3JkZXJzX3BheW1lbnQgPSAoCiAgICBkZl9vcmRlcnMuZ3JvdXBCeSgncGF5bWVudF90eXBlJykuYWdnKGYuc3VtKCdwcmljZV9pbl9jYWQnKS5hbGlhcygndG90YWxfcHJpY2VfaW5fY2FkJykpLm9yZGVyQnkoZGVzYygndG90YWxfcHJpY2VfaW5fY2FkJykpCikKZGlzcGxheShkZl9vcmRlcnNfcGF5bWVudCk=\").decode())\n\ntry:\n    # run user code\n    __backend_agg_user_code_fn()\n\n    #reset display function\n    display = __backend_agg_display_orig\n\n    if len(__backend_agg_dfs) > 0:\n        # create a temp view\n        if type(__backend_agg_dfs[0]).__module__ == \"databricks.koalas.frame\":\n            # koalas dataframe\n            __backend_agg_dfs[0].to_spark().createOrReplaceTempView(\"DatabricksViewccacf0d\")\n        elif type(__backend_agg_dfs[0]).__module__ == \"pandas.core.frame\" or isinstance(__backend_agg_dfs[0], list):\n            # pandas dataframe\n            spark.createDataFrame(__backend_agg_dfs[0]).createOrReplaceTempView(\"DatabricksViewccacf0d\")\n        else:\n            __backend_agg_dfs[0].createOrReplaceTempView(\"DatabricksViewccacf0d\")\n        #run backend agg\n        display(spark.sql(\"\"\"WITH q AS (select * from DatabricksViewccacf0d) SELECT `payment_type`,SUM(`total_price_in_cad`) `column_b4267d4f14` FROM q GROUP BY `payment_type`\"\"\"))\n    else:\n        displayHTML(\"dataframe no longer exists. If you're using dataframe.display(), use display(dataframe) instead.\")\n\n\nfinally:\n    spark.sql(\"drop view if exists DatabricksViewccacf0d\")\n    display = __backend_agg_display_orig\n    del __backend_agg_display_new\n    del __backend_agg_display_orig\n    del __backend_agg_dfs\n    del __backend_agg_user_code_fn\n\n",
       "commandTitle": "Visualization 1",
       "commandType": "auto",
       "commandVersion": 0,
       "commentThread": [],
       "commentsVisible": false,
       "contentSha256Hex": null,
       "customPlotOptions": {
        "redashChart": [
         {
          "key": "type",
          "value": "CHART"
         },
         {
          "key": "options",
          "value": {
           "alignYAxesAtZero": true,
           "coefficient": 1,
           "columnConfigurationMap": {
            "x": {
             "column": "payment_type",
             "id": "column_b4267d4f13"
            },
            "y": [
             {
              "column": "total_price_in_cad",
              "id": "column_b4267d4f14",
              "transform": "SUM"
             }
            ]
           },
           "dateTimeFormat": "DD/MM/YYYY HH:mm",
           "direction": {
            "type": "counterclockwise"
           },
           "error_y": {
            "type": "data",
            "visible": true
           },
           "globalSeriesType": "column",
           "isAggregationOn": true,
           "legend": {
            "traceorder": "normal"
           },
           "missingValuesAsZero": true,
           "numberFormat": "0,0.[00000]",
           "percentFormat": "0[.]00%",
           "series": {
            "error_y": {
             "type": "data",
             "visible": true
            },
            "stacking": null
           },
           "seriesOptions": {
            "column_b4267d4f14": {
             "name": "total_price_in_cad",
             "yAxis": 0
            }
           },
           "showDataLabels": true,
           "sizemode": "diameter",
           "sortX": false,
           "sortY": true,
           "swappedAxes": true,
           "textFormat": "",
           "useAggregationsUi": true,
           "valuesOptions": {},
           "version": 2,
           "xAxis": {
            "labels": {
             "enabled": true
            },
            "type": "-"
           },
           "yAxis": [
            {
             "type": "-"
            },
            {
             "opposite": true,
             "type": "-"
            }
           ]
          }
         }
        ]
       },
       "datasetPreviewNameToCmdIdMap": {},
       "diffDeletes": [],
       "diffInserts": [],
       "displayType": "redashChart",
       "error": null,
       "errorDetails": null,
       "errorSummary": null,
       "errorTraceType": null,
       "finishTime": 0,
       "globalVars": {},
       "guid": "",
       "height": "auto",
       "hideCommandCode": false,
       "hideCommandResult": false,
       "iPythonMetadata": null,
       "inputWidgets": {},
       "isLockedInExamMode": false,
       "latestUser": "a user",
       "latestUserId": null,
       "listResultMetadata": null,
       "metadata": {
        "byteLimit": 2048000,
        "rowLimit": 10000
       },
       "nuid": "97ae117e-5ff0-4b6e-87c6-b96e13d6e125",
       "origId": 0,
       "parentHierarchy": [],
       "pivotAggregation": null,
       "pivotColumns": null,
       "position": 7.0,
       "resultDbfsErrorMessage": null,
       "resultDbfsStatus": "INLINED_IN_TREE",
       "results": null,
       "showCommandTitle": false,
       "startTime": 0,
       "state": "finished",
       "streamStates": {},
       "subcommandOptions": {
        "queryPlan": {
         "groups": [
          {
           "column": "payment_type",
           "type": "column"
          }
         ],
         "selects": [
          {
           "column": "payment_type",
           "type": "column"
          },
          {
           "alias": "column_b4267d4f14",
           "args": [
            {
             "column": "total_price_in_cad",
             "type": "column"
            }
           ],
           "function": "SUM",
           "type": "function"
          }
         ]
        }
       },
       "submitTime": 0,
       "subtype": "tableResultSubCmd.visualization",
       "tableResultIndex": 0,
       "tableResultSettingsMap": {},
       "useConsistentColors": false,
       "version": "CommandV1",
       "width": "auto",
       "workflows": [],
       "xColumns": null,
       "yColumns": null
      }
     },
     "output_type": "display_data"
    }
   ],
   "source": [
    "df_orders_payment = (\n",
    "    df_orders.groupBy('payment_type').agg(f.sum('price_in_cad').alias('total_price_in_cad')).orderBy(desc('total_price_in_cad'))\n",
    ")\n",
    "display(df_orders_payment)"
   ]
  },
  {
   "cell_type": "code",
   "execution_count": 0,
   "metadata": {
    "application/vnd.databricks.v1+cell": {
     "cellMetadata": {
      "byteLimit": 2048000,
      "rowLimit": 10000
     },
     "inputWidgets": {},
     "nuid": "b163a8f0-394a-499d-a238-54cd80cfc3ef",
     "showTitle": false,
     "tableResultSettingsMap": {},
     "title": ""
    }
   },
   "outputs": [
    {
     "output_type": "display_data",
     "data": {
      "text/html": [
       "<style scoped>\n",
       "  .table-result-container {\n",
       "    max-height: 300px;\n",
       "    overflow: auto;\n",
       "  }\n",
       "  table, th, td {\n",
       "    border: 1px solid black;\n",
       "    border-collapse: collapse;\n",
       "  }\n",
       "  th, td {\n",
       "    padding: 5px;\n",
       "  }\n",
       "  th {\n",
       "    text-align: left;\n",
       "  }\n",
       "</style><div class='table-result-container'><table class='table-result'><thead style='background-color: white'><tr><th>payment_type</th><th>avg_price_in_cad</th><th>percent_%</th></tr></thead><tbody><tr><td>credit_card</td><td>1435682.0</td><td>76.09</td></tr><tr><td>bank draft</td><td>375043.0</td><td>19.88</td></tr><tr><td>voucher</td><td>48893.0</td><td>2.59</td></tr><tr><td>debit_card</td><td>27322.0</td><td>1.45</td></tr></tbody></table></div>"
      ]
     },
     "metadata": {
      "application/vnd.databricks.v1+output": {
       "addedWidgets": {},
       "aggData": [],
       "aggError": "",
       "aggOverflow": false,
       "aggSchema": [],
       "aggSeriesLimitReached": false,
       "aggType": "",
       "arguments": {},
       "columnCustomDisplayInfos": {},
       "data": [
        [
         "credit_card",
         1435682.0,
         76.09
        ],
        [
         "bank draft",
         375043.0,
         19.88
        ],
        [
         "voucher",
         48893.0,
         2.59
        ],
        [
         "debit_card",
         27322.0,
         1.45
        ]
       ],
       "datasetInfos": [],
       "dbfsResultPath": null,
       "isJsonSchema": true,
       "metadata": {},
       "overflow": false,
       "plotOptions": {
        "customPlotOptions": {},
        "displayType": "table",
        "pivotAggregation": null,
        "pivotColumns": null,
        "xColumns": null,
        "yColumns": null
       },
       "removedWidgets": [],
       "schema": [
        {
         "metadata": "{}",
         "name": "payment_type",
         "type": "\"string\""
        },
        {
         "metadata": "{}",
         "name": "avg_price_in_cad",
         "type": "\"double\""
        },
        {
         "metadata": "{}",
         "name": "percent_%",
         "type": "\"double\""
        }
       ],
       "type": "table"
      }
     },
     "output_type": "display_data"
    },
    {
     "output_type": "display_data",
     "data": {
      "text/plain": [
       "Databricks visualization. Run in Databricks to view."
      ]
     },
     "metadata": {
      "application/vnd.databricks.v1.subcommand+json": {
       "baseErrorDetails": null,
       "bindings": {},
       "collapsed": false,
       "command": "%python\n__backend_agg_display_orig = display\n__backend_agg_dfs = []\ndef __backend_agg_display_new(df):\n    __backend_agg_df_modules = [\"pandas.core.frame\", \"databricks.koalas.frame\", \"pyspark.sql.dataframe\", \"pyspark.pandas.frame\", \"pyspark.sql.connect.dataframe\"]\n    if (type(df).__module__ in __backend_agg_df_modules and type(df).__name__ == 'DataFrame') or isinstance(df, list):\n        __backend_agg_dfs.append(df)\n\ndisplay = __backend_agg_display_new\n\ndef __backend_agg_user_code_fn():\n    import base64\n    exec(base64.standard_b64decode(\"ZGZfb3JkZXJzX3BheW1lbnRfYXZnID0gKAogICAgZGZfb3JkZXJzX3BheW1lbnQuZ3JvdXBCeSgncGF5bWVudF90eXBlJykuYWdnKGYuYXZnKCd0b3RhbF9wcmljZV9pbl9jYWQnKS5hbGlhcygnYXZnX3ByaWNlX2luX2NhZCcpKQopCgp0b3RhbF9kZl9vcmRlcnNfcGF5bWVudCA9IGRmX29yZGVyc19wYXltZW50X2F2Zy5hZ2coZi5zdW0oJ2F2Z19wcmljZV9pbl9jYWQnKS5hbGlhcygndG90YWxfYXZnJykpLmNvbGxlY3QoKVswXVsndG90YWxfYXZnJ10KCmRmX29yZGVyc19wYXltZW50X2F2ZyA9IGRmX29yZGVyc19wYXltZW50X2F2Zy53aXRoQ29sdW1uKCdwZXJjZW50YWdlbScsIChmLmNvbCgnYXZnX3ByaWNlX2luX2NhZCcpIC8gdG90YWxfZGZfb3JkZXJzX3BheW1lbnQpICogMTAwKQoKZGZfb3JkZXJzX3BheW1lbnRfYXZnID0gZGZfb3JkZXJzX3BheW1lbnRfYXZnLndpdGhDb2x1bW4oJ3BlcmNlbnRfJScsIHJvdW5kKGYuY29sKCdwZXJjZW50YWdlbScpLDIpKQoKZGZfb3JkZXJzX3BheW1lbnRfYXZnID0gZGZfb3JkZXJzX3BheW1lbnRfYXZnLmRyb3AoJ3BlcmNlbnRhZ2VtJykKCmRpc3BsYXkoZGZfb3JkZXJzX3BheW1lbnRfYXZnKQ==\").decode())\n\ntry:\n    # run user code\n    __backend_agg_user_code_fn()\n\n    #reset display function\n    display = __backend_agg_display_orig\n\n    if len(__backend_agg_dfs) > 0:\n        # create a temp view\n        if type(__backend_agg_dfs[0]).__module__ == \"databricks.koalas.frame\":\n            # koalas dataframe\n            __backend_agg_dfs[0].to_spark().createOrReplaceTempView(\"DatabricksViewfc9685e\")\n        elif type(__backend_agg_dfs[0]).__module__ == \"pandas.core.frame\" or isinstance(__backend_agg_dfs[0], list):\n            # pandas dataframe\n            spark.createDataFrame(__backend_agg_dfs[0]).createOrReplaceTempView(\"DatabricksViewfc9685e\")\n        else:\n            __backend_agg_dfs[0].createOrReplaceTempView(\"DatabricksViewfc9685e\")\n        #run backend agg\n        display(spark.sql(\"\"\"WITH q AS (select * from DatabricksViewfc9685e) SELECT `payment_type`,AVG(`percent_%`) `column_b4267d4f20`,`payment_type` FROM q GROUP BY `payment_type`\"\"\"))\n    else:\n        displayHTML(\"dataframe no longer exists. If you're using dataframe.display(), use display(dataframe) instead.\")\n\n\nfinally:\n    spark.sql(\"drop view if exists DatabricksViewfc9685e\")\n    display = __backend_agg_display_orig\n    del __backend_agg_display_new\n    del __backend_agg_display_orig\n    del __backend_agg_dfs\n    del __backend_agg_user_code_fn\n\n",
       "commandTitle": "Visualization 1",
       "commandType": "auto",
       "commandVersion": 0,
       "commentThread": [],
       "commentsVisible": false,
       "contentSha256Hex": null,
       "customPlotOptions": {
        "redashChart": [
         {
          "key": "type",
          "value": "CHART"
         },
         {
          "key": "options",
          "value": {
           "alignYAxesAtZero": true,
           "coefficient": 1,
           "columnConfigurationMap": {
            "series": {
             "column": "payment_type",
             "id": "column_b4267d4f21"
            },
            "x": {
             "column": "payment_type",
             "id": "column_b4267d4f22"
            },
            "y": [
             {
              "column": "percent_%",
              "id": "column_b4267d4f20",
              "transform": "AVG"
             }
            ]
           },
           "dateTimeFormat": "DD/MM/YYYY HH:mm",
           "direction": {
            "type": "counterclockwise"
           },
           "error_y": {
            "type": "data",
            "visible": true
           },
           "globalSeriesType": "column",
           "isAggregationOn": true,
           "legend": {
            "traceorder": "normal"
           },
           "missingValuesAsZero": true,
           "numberFormat": "0,0.[00000]",
           "percentFormat": "0[.]00%",
           "series": {
            "error_y": {
             "type": "data",
             "visible": true
            },
            "stacking": null
           },
           "seriesOptions": {
            "column_b4267d4f20": {
             "name": "percent_%",
             "type": "column",
             "yAxis": 0
            }
           },
           "showDataLabels": true,
           "sizemode": "diameter",
           "sortX": false,
           "sortY": true,
           "swappedAxes": false,
           "textFormat": "",
           "useAggregationsUi": true,
           "valuesOptions": {},
           "version": 2,
           "xAxis": {
            "labels": {
             "enabled": true
            },
            "type": "-"
           },
           "yAxis": [
            {
             "type": "-"
            },
            {
             "opposite": true,
             "type": "-"
            }
           ]
          }
         }
        ]
       },
       "datasetPreviewNameToCmdIdMap": {},
       "diffDeletes": [],
       "diffInserts": [],
       "displayType": "redashChart",
       "error": null,
       "errorDetails": null,
       "errorSummary": null,
       "errorTraceType": null,
       "finishTime": 0,
       "globalVars": {},
       "guid": "",
       "height": "auto",
       "hideCommandCode": false,
       "hideCommandResult": false,
       "iPythonMetadata": null,
       "inputWidgets": {},
       "isLockedInExamMode": false,
       "latestUser": "a user",
       "latestUserId": null,
       "listResultMetadata": null,
       "metadata": {
        "byteLimit": 2048000,
        "rowLimit": 10000
       },
       "nuid": "04f84e52-680b-4295-9274-5859e96ad08e",
       "origId": 0,
       "parentHierarchy": [],
       "pivotAggregation": null,
       "pivotColumns": null,
       "position": 8.0,
       "resultDbfsErrorMessage": null,
       "resultDbfsStatus": "INLINED_IN_TREE",
       "results": null,
       "showCommandTitle": false,
       "startTime": 0,
       "state": "finished",
       "streamStates": {},
       "subcommandOptions": {
        "queryPlan": {
         "groups": [
          {
           "column": "payment_type",
           "type": "column"
          },
          {
           "column": "payment_type",
           "type": "column"
          }
         ],
         "selects": [
          {
           "column": "payment_type",
           "type": "column"
          },
          {
           "alias": "column_b4267d4f20",
           "args": [
            {
             "column": "percent_%",
             "type": "column"
            }
           ],
           "function": "AVG",
           "type": "function"
          },
          {
           "column": "payment_type",
           "type": "column"
          }
         ]
        }
       },
       "submitTime": 0,
       "subtype": "tableResultSubCmd.visualization",
       "tableResultIndex": 0,
       "tableResultSettingsMap": {},
       "useConsistentColors": false,
       "version": "CommandV1",
       "width": "auto",
       "workflows": [],
       "xColumns": null,
       "yColumns": null
      }
     },
     "output_type": "display_data"
    }
   ],
   "source": [
    "df_orders_payment_avg = (\n",
    "    df_orders_payment.groupBy('payment_type').agg(f.avg('total_price_in_cad').alias('avg_price_in_cad'))\n",
    ")\n",
    "\n",
    "total_df_orders_payment = df_orders_payment_avg.agg(f.sum('avg_price_in_cad').alias('total_avg')).collect()[0]['total_avg']\n",
    "\n",
    "df_orders_payment_avg = df_orders_payment_avg.withColumn('percentagem', (f.col('avg_price_in_cad') / total_df_orders_payment) * 100)\n",
    "\n",
    "df_orders_payment_avg = df_orders_payment_avg.withColumn('percent_%', round(f.col('percentagem'),2))\n",
    "\n",
    "df_orders_payment_avg = df_orders_payment_avg.drop('percentagem')\n",
    "\n",
    "display(df_orders_payment_avg)"
   ]
  },
  {
   "cell_type": "code",
   "execution_count": 0,
   "metadata": {
    "application/vnd.databricks.v1+cell": {
     "cellMetadata": {
      "byteLimit": 2048000,
      "rowLimit": 10000
     },
     "inputWidgets": {},
     "nuid": "389188d7-63b8-4a09-b9e0-d2cc1e79aae4",
     "showTitle": false,
     "tableResultSettingsMap": {},
     "title": ""
    }
   },
   "outputs": [
    {
     "output_type": "display_data",
     "data": {
      "text/html": [
       "<style scoped>\n",
       "  .table-result-container {\n",
       "    max-height: 300px;\n",
       "    overflow: auto;\n",
       "  }\n",
       "  table, th, td {\n",
       "    border: 1px solid black;\n",
       "    border-collapse: collapse;\n",
       "  }\n",
       "  th, td {\n",
       "    padding: 5px;\n",
       "  }\n",
       "  th {\n",
       "    text-align: left;\n",
       "  }\n",
       "</style><div class='table-result-container'><table class='table-result'><thead style='background-color: white'><tr><th>product_id</th><th>prod_cat_name_eng</th></tr></thead><tbody><tr><td>PROD-351-803-btb.</td><td>health_beauty</td></tr><tr><td>PROD-592-252-fgo*</td><td>health_beauty</td></tr><tr><td>PROD-981-360-tsx.</td><td>health_beauty</td></tr><tr><td>PROD-466-709-ruw*</td><td>computers_accessories</td></tr><tr><td>PROD-540-989-oyk-</td><td>computers_accessories</td></tr><tr><td>PROD-459-947-tqu%</td><td>furniture_decor</td></tr><tr><td>PROD-264-409-eez*</td><td>telephony</td></tr><tr><td>PROD-751-767-isp'</td><td>sports_leisure</td></tr><tr><td>PROD-775-222-mcv.</td><td>computers_accessories</td></tr><tr><td>PROD-451-404-zij$</td><td>furniture_decor</td></tr></tbody></table></div>"
      ]
     },
     "metadata": {
      "application/vnd.databricks.v1+output": {
       "addedWidgets": {},
       "aggData": [],
       "aggError": "",
       "aggOverflow": false,
       "aggSchema": [],
       "aggSeriesLimitReached": false,
       "aggType": "",
       "arguments": {},
       "columnCustomDisplayInfos": {},
       "data": [
        [
         "PROD-351-803-btb.",
         "health_beauty"
        ],
        [
         "PROD-592-252-fgo*",
         "health_beauty"
        ],
        [
         "PROD-981-360-tsx.",
         "health_beauty"
        ],
        [
         "PROD-466-709-ruw*",
         "computers_accessories"
        ],
        [
         "PROD-540-989-oyk-",
         "computers_accessories"
        ],
        [
         "PROD-459-947-tqu%",
         "furniture_decor"
        ],
        [
         "PROD-264-409-eez*",
         "telephony"
        ],
        [
         "PROD-751-767-isp'",
         "sports_leisure"
        ],
        [
         "PROD-775-222-mcv.",
         "computers_accessories"
        ],
        [
         "PROD-451-404-zij$",
         "furniture_decor"
        ]
       ],
       "datasetInfos": [],
       "dbfsResultPath": null,
       "isJsonSchema": true,
       "metadata": {},
       "overflow": false,
       "plotOptions": {
        "customPlotOptions": {},
        "displayType": "table",
        "pivotAggregation": null,
        "pivotColumns": null,
        "xColumns": null,
        "yColumns": null
       },
       "removedWidgets": [],
       "schema": [
        {
         "metadata": "{}",
         "name": "product_id",
         "type": "\"string\""
        },
        {
         "metadata": "{}",
         "name": "prod_cat_name_eng",
         "type": "\"string\""
        }
       ],
       "type": "table"
      }
     },
     "output_type": "display_data"
    }
   ],
   "source": [
    "display(df_product.limit(10))"
   ]
  },
  {
   "cell_type": "code",
   "execution_count": 0,
   "metadata": {
    "application/vnd.databricks.v1+cell": {
     "cellMetadata": {
      "byteLimit": 2048000,
      "rowLimit": 10000
     },
     "inputWidgets": {},
     "nuid": "3080997d-57c5-48ba-8cb2-fb56ed5f0f62",
     "showTitle": false,
     "tableResultSettingsMap": {},
     "title": ""
    }
   },
   "outputs": [
    {
     "output_type": "display_data",
     "data": {
      "text/html": [
       "<style scoped>\n",
       "  .table-result-container {\n",
       "    max-height: 300px;\n",
       "    overflow: auto;\n",
       "  }\n",
       "  table, th, td {\n",
       "    border: 1px solid black;\n",
       "    border-collapse: collapse;\n",
       "  }\n",
       "  th, td {\n",
       "    padding: 5px;\n",
       "  }\n",
       "  th {\n",
       "    text-align: left;\n",
       "  }\n",
       "</style><div class='table-result-container'><table class='table-result'><thead style='background-color: white'><tr><th>prod_cat_name_eng</th><th>total_price_in_cad</th></tr></thead><tbody><tr><td>health_beauty</td><td>284386</td></tr><tr><td>watches_gifts</td><td>275455</td></tr><tr><td>bed_bath_table</td><td>273124</td></tr><tr><td>sports_leisure</td><td>227735</td></tr><tr><td>computers_accessories</td><td>205544</td></tr><tr><td>furniture_decor</td><td>162454</td></tr><tr><td>housewares</td><td>140904</td></tr><tr><td>auto</td><td>133394</td></tr><tr><td>toys</td><td>109310</td></tr><tr><td>telephony</td><td>74634</td></tr></tbody></table></div>"
      ]
     },
     "metadata": {
      "application/vnd.databricks.v1+output": {
       "addedWidgets": {},
       "aggData": [],
       "aggError": "",
       "aggOverflow": false,
       "aggSchema": [],
       "aggSeriesLimitReached": false,
       "aggType": "",
       "arguments": {},
       "columnCustomDisplayInfos": {},
       "data": [
        [
         "health_beauty",
         284386
        ],
        [
         "watches_gifts",
         275455
        ],
        [
         "bed_bath_table",
         273124
        ],
        [
         "sports_leisure",
         227735
        ],
        [
         "computers_accessories",
         205544
        ],
        [
         "furniture_decor",
         162454
        ],
        [
         "housewares",
         140904
        ],
        [
         "auto",
         133394
        ],
        [
         "toys",
         109310
        ],
        [
         "telephony",
         74634
        ]
       ],
       "datasetInfos": [],
       "dbfsResultPath": null,
       "isJsonSchema": true,
       "metadata": {},
       "overflow": false,
       "plotOptions": {
        "customPlotOptions": {},
        "displayType": "table",
        "pivotAggregation": null,
        "pivotColumns": null,
        "xColumns": null,
        "yColumns": null
       },
       "removedWidgets": [],
       "schema": [
        {
         "metadata": "{}",
         "name": "prod_cat_name_eng",
         "type": "\"string\""
        },
        {
         "metadata": "{}",
         "name": "total_price_in_cad",
         "type": "\"long\""
        }
       ],
       "type": "table"
      }
     },
     "output_type": "display_data"
    },
    {
     "output_type": "display_data",
     "data": {
      "text/plain": [
       "Databricks visualization. Run in Databricks to view."
      ]
     },
     "metadata": {
      "application/vnd.databricks.v1.subcommand+json": {
       "baseErrorDetails": null,
       "bindings": {},
       "collapsed": false,
       "command": "%python\n__backend_agg_display_orig = display\n__backend_agg_dfs = []\ndef __backend_agg_display_new(df):\n    __backend_agg_df_modules = [\"pandas.core.frame\", \"databricks.koalas.frame\", \"pyspark.sql.dataframe\", \"pyspark.pandas.frame\", \"pyspark.sql.connect.dataframe\"]\n    if (type(df).__module__ in __backend_agg_df_modules and type(df).__name__ == 'DataFrame') or isinstance(df, list):\n        __backend_agg_dfs.append(df)\n\ndisplay = __backend_agg_display_new\n\ndef __backend_agg_user_code_fn():\n    import base64\n    exec(base64.standard_b64decode(\"cHJvZHVjdHNfcHJpY2UgPSBkZl9wcm9kdWN0LmpvaW4oZGZfb3JkZXJzLCBvbj0ncHJvZHVjdF9pZCcsIGhvdz0naW5uZXInKQpwcm9kdWN0c19wcmljZSA9IHByb2R1Y3RzX3ByaWNlLnNlbGVjdCgncHJvZHVjdF9pZCcsICdwcm9kX2NhdF9uYW1lX2VuZycsICdwcmljZV9pbl9jYWQnICkuZ3JvdXBCeSgncHJvZF9jYXRfbmFtZV9lbmcnKS5hZ2coZi5zdW0oJ3ByaWNlX2luX2NhZCcpLmFsaWFzKCd0b3RhbF9wcmljZV9pbl9jYWQnKSkub3JkZXJCeShkZXNjKCd0b3RhbF9wcmljZV9pbl9jYWQnKSkKZGlzcGxheShwcm9kdWN0c19wcmljZSk=\").decode())\n\ntry:\n    # run user code\n    __backend_agg_user_code_fn()\n\n    #reset display function\n    display = __backend_agg_display_orig\n\n    if len(__backend_agg_dfs) > 0:\n        # create a temp view\n        if type(__backend_agg_dfs[0]).__module__ == \"databricks.koalas.frame\":\n            # koalas dataframe\n            __backend_agg_dfs[0].to_spark().createOrReplaceTempView(\"DatabricksView8924213\")\n        elif type(__backend_agg_dfs[0]).__module__ == \"pandas.core.frame\" or isinstance(__backend_agg_dfs[0], list):\n            # pandas dataframe\n            spark.createDataFrame(__backend_agg_dfs[0]).createOrReplaceTempView(\"DatabricksView8924213\")\n        else:\n            __backend_agg_dfs[0].createOrReplaceTempView(\"DatabricksView8924213\")\n        #run backend agg\n        display(spark.sql(\"\"\"WITH q AS (select * from DatabricksView8924213) SELECT `prod_cat_name_eng`,SUM(`total_price_in_cad`) `column_b4267d4f27` FROM q GROUP BY `prod_cat_name_eng`\"\"\"))\n    else:\n        displayHTML(\"dataframe no longer exists. If you're using dataframe.display(), use display(dataframe) instead.\")\n\n\nfinally:\n    spark.sql(\"drop view if exists DatabricksView8924213\")\n    display = __backend_agg_display_orig\n    del __backend_agg_display_new\n    del __backend_agg_display_orig\n    del __backend_agg_dfs\n    del __backend_agg_user_code_fn\n\n",
       "commandTitle": "Visualization 1",
       "commandType": "auto",
       "commandVersion": 0,
       "commentThread": [],
       "commentsVisible": false,
       "contentSha256Hex": null,
       "customPlotOptions": {
        "redashChart": [
         {
          "key": "type",
          "value": "CHART"
         },
         {
          "key": "options",
          "value": {
           "alignYAxesAtZero": true,
           "coefficient": 1,
           "columnConfigurationMap": {
            "x": {
             "column": "prod_cat_name_eng",
             "id": "column_b4267d4f26"
            },
            "y": [
             {
              "column": "total_price_in_cad",
              "id": "column_b4267d4f27",
              "transform": "SUM"
             }
            ]
           },
           "dateTimeFormat": "DD/MM/YYYY HH:mm",
           "direction": {
            "type": "counterclockwise"
           },
           "error_y": {
            "type": "data",
            "visible": true
           },
           "globalSeriesType": "column",
           "isAggregationOn": true,
           "legend": {
            "traceorder": "normal"
           },
           "missingValuesAsZero": true,
           "numberFormat": "0,0.[00000]",
           "percentFormat": "0[.]00$",
           "series": {
            "error_y": {
             "type": "data",
             "visible": true
            },
            "stacking": null
           },
           "seriesOptions": {
            "column_b4267d4f27": {
             "name": "total_price_in_cad",
             "type": "column",
             "yAxis": 0
            }
           },
           "showDataLabels": true,
           "sizemode": "diameter",
           "sortX": false,
           "sortY": true,
           "swappedAxes": false,
           "textFormat": "",
           "useAggregationsUi": true,
           "valuesOptions": {},
           "version": 2,
           "xAxis": {
            "labels": {
             "enabled": true
            },
            "type": "-"
           },
           "yAxis": [
            {
             "type": "-"
            },
            {
             "opposite": true,
             "type": "-"
            }
           ]
          }
         }
        ]
       },
       "datasetPreviewNameToCmdIdMap": {},
       "diffDeletes": [],
       "diffInserts": [],
       "displayType": "redashChart",
       "error": null,
       "errorDetails": null,
       "errorSummary": null,
       "errorTraceType": null,
       "finishTime": 0,
       "globalVars": {},
       "guid": "",
       "height": "auto",
       "hideCommandCode": false,
       "hideCommandResult": false,
       "iPythonMetadata": null,
       "inputWidgets": {},
       "isLockedInExamMode": false,
       "latestUser": "a user",
       "latestUserId": null,
       "listResultMetadata": null,
       "metadata": {
        "byteLimit": 2048000,
        "rowLimit": 10000
       },
       "nuid": "6d965d47-fe9f-4e04-a7d0-ba6cb4cc6838",
       "origId": 0,
       "parentHierarchy": [],
       "pivotAggregation": null,
       "pivotColumns": null,
       "position": 10.0,
       "resultDbfsErrorMessage": null,
       "resultDbfsStatus": "INLINED_IN_TREE",
       "results": null,
       "showCommandTitle": false,
       "startTime": 0,
       "state": "finished",
       "streamStates": {},
       "subcommandOptions": {
        "queryPlan": {
         "groups": [
          {
           "column": "prod_cat_name_eng",
           "type": "column"
          }
         ],
         "selects": [
          {
           "column": "prod_cat_name_eng",
           "type": "column"
          },
          {
           "alias": "column_b4267d4f27",
           "args": [
            {
             "column": "total_price_in_cad",
             "type": "column"
            }
           ],
           "function": "SUM",
           "type": "function"
          }
         ]
        }
       },
       "submitTime": 0,
       "subtype": "tableResultSubCmd.visualization",
       "tableResultIndex": 0,
       "tableResultSettingsMap": {},
       "useConsistentColors": false,
       "version": "CommandV1",
       "width": "auto",
       "workflows": [],
       "xColumns": null,
       "yColumns": null
      }
     },
     "output_type": "display_data"
    }
   ],
   "source": [
    "products_price = df_product.join(df_orders, on='product_id', how='inner')\n",
    "products_price = products_price.select('product_id', 'prod_cat_name_eng', 'price_in_cad' ).groupBy('prod_cat_name_eng').agg(f.sum('price_in_cad').alias('total_price_in_cad')).orderBy(desc('total_price_in_cad'))\n",
    "display(products_price)"
   ]
  }
 ],
 "metadata": {
  "application/vnd.databricks.v1+notebook": {
   "computePreferences": null,
   "dashboards": [],
   "environmentMetadata": {
    "base_environment": "",
    "client": "1"
   },
   "language": "python",
   "notebookMetadata": {
    "pythonIndentUnit": 4
   },
   "notebookName": "Product_treatment_and Analyse",
   "widgets": {}
  }
 },
 "nbformat": 4,
 "nbformat_minor": 0
}
